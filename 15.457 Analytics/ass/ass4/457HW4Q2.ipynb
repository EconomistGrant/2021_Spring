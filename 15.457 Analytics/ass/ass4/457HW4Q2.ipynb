{
 "cells": [
  {
   "cell_type": "code",
   "execution_count": 54,
   "metadata": {},
   "outputs": [],
   "source": [
    "import numpy as np\n",
    "import pandas as pd\n",
    "import datetime\n",
    "import seaborn as sns\n",
    "import matplotlib.pyplot as plt"
   ]
  },
  {
   "cell_type": "code",
   "execution_count": 55,
   "metadata": {},
   "outputs": [
    {
     "data": {
      "text/html": [
       "<div>\n",
       "<style scoped>\n",
       "    .dataframe tbody tr th:only-of-type {\n",
       "        vertical-align: middle;\n",
       "    }\n",
       "\n",
       "    .dataframe tbody tr th {\n",
       "        vertical-align: top;\n",
       "    }\n",
       "\n",
       "    .dataframe thead th {\n",
       "        text-align: right;\n",
       "    }\n",
       "</style>\n",
       "<table border=\"1\" class=\"dataframe\">\n",
       "  <thead>\n",
       "    <tr style=\"text-align: right;\">\n",
       "      <th></th>\n",
       "      <th>FOMC</th>\n",
       "      <th>ret</th>\n",
       "      <th>abnormal</th>\n",
       "    </tr>\n",
       "    <tr>\n",
       "      <th>date</th>\n",
       "      <th></th>\n",
       "      <th></th>\n",
       "      <th></th>\n",
       "    </tr>\n",
       "  </thead>\n",
       "  <tbody>\n",
       "    <tr>\n",
       "      <th>1980-01-02</th>\n",
       "      <td>0</td>\n",
       "      <td>-0.020016</td>\n",
       "      <td>NaN</td>\n",
       "    </tr>\n",
       "    <tr>\n",
       "      <th>1980-01-03</th>\n",
       "      <td>0</td>\n",
       "      <td>-0.004558</td>\n",
       "      <td>NaN</td>\n",
       "    </tr>\n",
       "    <tr>\n",
       "      <th>1980-01-04</th>\n",
       "      <td>0</td>\n",
       "      <td>0.012308</td>\n",
       "      <td>NaN</td>\n",
       "    </tr>\n",
       "    <tr>\n",
       "      <th>1980-01-07</th>\n",
       "      <td>0</td>\n",
       "      <td>0.003118</td>\n",
       "      <td>NaN</td>\n",
       "    </tr>\n",
       "    <tr>\n",
       "      <th>1980-01-08</th>\n",
       "      <td>0</td>\n",
       "      <td>0.021196</td>\n",
       "      <td>NaN</td>\n",
       "    </tr>\n",
       "  </tbody>\n",
       "</table>\n",
       "</div>"
      ],
      "text/plain": [
       "            FOMC       ret  abnormal\n",
       "date                                \n",
       "1980-01-02     0 -0.020016       NaN\n",
       "1980-01-03     0 -0.004558       NaN\n",
       "1980-01-04     0  0.012308       NaN\n",
       "1980-01-07     0  0.003118       NaN\n",
       "1980-01-08     0  0.021196       NaN"
      ]
     },
     "execution_count": 55,
     "metadata": {},
     "output_type": "execute_result"
    }
   ],
   "source": [
    "data = pd.read_csv('FOMC.csv')\n",
    "data.columns = ['date','FOMC','ret']\n",
    "data['date'] = pd.to_datetime(data['date'],format='%Y%m%d')\n",
    "data.index = data['date']\n",
    "del data['date']\n",
    "data['abnormal'] = np.nan\n",
    "data.head()"
   ]
  },
  {
   "cell_type": "code",
   "execution_count": 56,
   "metadata": {},
   "outputs": [
    {
     "data": {
      "text/html": [
       "<div>\n",
       "<style scoped>\n",
       "    .dataframe tbody tr th:only-of-type {\n",
       "        vertical-align: middle;\n",
       "    }\n",
       "\n",
       "    .dataframe tbody tr th {\n",
       "        vertical-align: top;\n",
       "    }\n",
       "\n",
       "    .dataframe thead th {\n",
       "        text-align: right;\n",
       "    }\n",
       "</style>\n",
       "<table border=\"1\" class=\"dataframe\">\n",
       "  <thead>\n",
       "    <tr style=\"text-align: right;\">\n",
       "      <th></th>\n",
       "      <th>FOMC</th>\n",
       "      <th>ret</th>\n",
       "      <th>abnormal</th>\n",
       "    </tr>\n",
       "    <tr>\n",
       "      <th>date</th>\n",
       "      <th></th>\n",
       "      <th></th>\n",
       "      <th></th>\n",
       "    </tr>\n",
       "  </thead>\n",
       "  <tbody>\n",
       "    <tr>\n",
       "      <th>1993-02-03</th>\n",
       "      <td>1</td>\n",
       "      <td>0.010314</td>\n",
       "      <td>NaN</td>\n",
       "    </tr>\n",
       "    <tr>\n",
       "      <th>1993-03-23</th>\n",
       "      <td>1</td>\n",
       "      <td>-0.000289</td>\n",
       "      <td>NaN</td>\n",
       "    </tr>\n",
       "    <tr>\n",
       "      <th>1993-05-18</th>\n",
       "      <td>1</td>\n",
       "      <td>0.000261</td>\n",
       "      <td>NaN</td>\n",
       "    </tr>\n",
       "    <tr>\n",
       "      <th>1993-07-07</th>\n",
       "      <td>1</td>\n",
       "      <td>0.003230</td>\n",
       "      <td>NaN</td>\n",
       "    </tr>\n",
       "    <tr>\n",
       "      <th>1993-08-17</th>\n",
       "      <td>1</td>\n",
       "      <td>0.002051</td>\n",
       "      <td>NaN</td>\n",
       "    </tr>\n",
       "  </tbody>\n",
       "</table>\n",
       "</div>"
      ],
      "text/plain": [
       "            FOMC       ret  abnormal\n",
       "date                                \n",
       "1993-02-03     1  0.010314       NaN\n",
       "1993-03-23     1 -0.000289       NaN\n",
       "1993-05-18     1  0.000261       NaN\n",
       "1993-07-07     1  0.003230       NaN\n",
       "1993-08-17     1  0.002051       NaN"
      ]
     },
     "execution_count": 56,
     "metadata": {},
     "output_type": "execute_result"
    }
   ],
   "source": [
    "FOMC_df = data.loc['1993-01-01':'2015-12-31',:][data.loc['1993-01-01':'2015-12-31',:]['FOMC']==1]\n",
    "FOMC_df.head()"
   ]
  },
  {
   "cell_type": "code",
   "execution_count": 57,
   "metadata": {},
   "outputs": [],
   "source": [
    "#(b)\n",
    "FOMC_abnormal = []\n",
    "for i in range(len(FOMC_df.index)):\n",
    "    info = FOMC_df.iloc[i,:]\n",
    "    estimation_start = datetime.date(info.name.year-1,info.name.month,info.name.day).strftime(format = '%Y-%m-%d')\n",
    "    estimation_end = (datetime.date(info.name.year,info.name.month,info.name.day)-datetime.timedelta(days=1)).strftime(format = '%Y-%m-%d')\n",
    "    estimation_avg = data.loc[estimation_start:estimation_end,'ret'].mean()\n",
    "    data.loc[estimation_start:estimation_end,'abnormal'] = data.loc[estimation_start:estimation_end,'ret'] - window_avg\n",
    "    FOMC_abnormal.append(info['ret']-estimation_avg)\n",
    "FOMC_abnormal = pd.Series(FOMC_abnormal,name='FOMC abnormal')"
   ]
  },
  {
   "cell_type": "code",
   "execution_count": 58,
   "metadata": {},
   "outputs": [
    {
     "name": "stdout",
     "output_type": "stream",
     "text": [
      "z-score is 3.3437\n"
     ]
    }
   ],
   "source": [
    "N = len(FOMC_abnormal)\n",
    "z_score = FOMC_abnormal.mean()/(1/N**2*(FOMC_abnormal**2).sum())**0.5\n",
    "print(\"z-score is %.4f\" %z_score)"
   ]
  },
  {
   "cell_type": "code",
   "execution_count": 59,
   "metadata": {},
   "outputs": [
    {
     "data": {
      "text/plain": [
       "<matplotlib.legend.Legend at 0x7f904df3be90>"
      ]
     },
     "execution_count": 59,
     "metadata": {},
     "output_type": "execute_result"
    },
    {
     "data": {
      "image/png": "[encoded data removed]",
      "text/plain": [
       "<Figure size 432x288 with 1 Axes>"
      ]
     },
     "metadata": {},
     "output_type": "display_data"
    }
   ],
   "source": [
    "#(c)\n",
    "non_FOMC_abnormal = data.loc['1993-01-01':'2015-12-31',:][data.loc['1993-01-01':'2015-12-31','FOMC']==0]['abnormal']\n",
    "non_FOMC_abnormal.name = 'non-FOMC abnormal'\n",
    "#sns.set_style(\"whitegrid\")\n",
    "sns.kdeplot(non_FOMC_abnormal)\n",
    "sns.kdeplot(FOMC_abnormal)\n",
    "plt.legend()"
   ]
  },
  {
   "cell_type": "code",
   "execution_count": 60,
   "metadata": {},
   "outputs": [
    {
     "name": "stdout",
     "output_type": "stream",
     "text": [
      "z-score is -0.5970\n"
     ]
    }
   ],
   "source": [
    "#(e)\n",
    "#(i)\n",
    "FOMC_df = data.loc['2016-01-01':,:][data.loc['2016-01-01':,:]['FOMC']==1]\n",
    "FOMC_abnormal = []\n",
    "for i in range(len(FOMC_df.index)):\n",
    "    info = FOMC_df.iloc[i,:]\n",
    "    estimation_start = datetime.date(info.name.year-1,info.name.month,info.name.day).strftime(format = '%Y-%m-%d')\n",
    "    estimation_end = (datetime.date(info.name.year,info.name.month,info.name.day)-datetime.timedelta(days=1)).strftime(format = '%Y-%m-%d')\n",
    "    estimation_avg = data.loc[estimation_start:estimation_end,'ret'].mean()\n",
    "    data.loc[estimation_start:estimation_end,'abnormal'] = data.loc[estimation_start:estimation_end,'ret'] - window_avg\n",
    "    FOMC_abnormal.append(info['ret']-estimation_avg)\n",
    "FOMC_abnormal = pd.Series(FOMC_abnormal,name='FOMC abnormal')\n",
    "N = len(FOMC_abnormal)\n",
    "z_score = FOMC_abnormal.mean()/(1/N**2*(FOMC_abnormal**2).sum())**0.5\n",
    "print(\"z-score is %.4f\" %z_score)"
   ]
  },
  {
   "cell_type": "code",
   "execution_count": 74,
   "metadata": {},
   "outputs": [
    {
     "data": {
      "text/html": [
       "<div>\n",
       "<style scoped>\n",
       "    .dataframe tbody tr th:only-of-type {\n",
       "        vertical-align: middle;\n",
       "    }\n",
       "\n",
       "    .dataframe tbody tr th {\n",
       "        vertical-align: top;\n",
       "    }\n",
       "\n",
       "    .dataframe thead th {\n",
       "        text-align: right;\n",
       "    }\n",
       "</style>\n",
       "<table border=\"1\" class=\"dataframe\">\n",
       "  <thead>\n",
       "    <tr style=\"text-align: right;\">\n",
       "      <th></th>\n",
       "      <th>ret</th>\n",
       "      <th>FOMC</th>\n",
       "      <th>abnormal</th>\n",
       "    </tr>\n",
       "    <tr>\n",
       "      <th>date</th>\n",
       "      <th></th>\n",
       "      <th></th>\n",
       "      <th></th>\n",
       "    </tr>\n",
       "  </thead>\n",
       "  <tbody>\n",
       "    <tr>\n",
       "      <th>1992-01-03</th>\n",
       "      <td>0.010324</td>\n",
       "      <td>0.0</td>\n",
       "      <td>NaN</td>\n",
       "    </tr>\n",
       "    <tr>\n",
       "      <th>1992-01-07</th>\n",
       "      <td>-0.008798</td>\n",
       "      <td>0.0</td>\n",
       "      <td>NaN</td>\n",
       "    </tr>\n",
       "    <tr>\n",
       "      <th>1992-01-08</th>\n",
       "      <td>0.001479</td>\n",
       "      <td>0.0</td>\n",
       "      <td>NaN</td>\n",
       "    </tr>\n",
       "    <tr>\n",
       "      <th>1992-01-09</th>\n",
       "      <td>0.002954</td>\n",
       "      <td>0.0</td>\n",
       "      <td>NaN</td>\n",
       "    </tr>\n",
       "    <tr>\n",
       "      <th>1992-01-10</th>\n",
       "      <td>0.008837</td>\n",
       "      <td>0.0</td>\n",
       "      <td>NaN</td>\n",
       "    </tr>\n",
       "  </tbody>\n",
       "</table>\n",
       "</div>"
      ],
      "text/plain": [
       "                 ret  FOMC  abnormal\n",
       "date                                \n",
       "1992-01-03  0.010324   0.0       NaN\n",
       "1992-01-07 -0.008798   0.0       NaN\n",
       "1992-01-08  0.001479   0.0       NaN\n",
       "1992-01-09  0.002954   0.0       NaN\n",
       "1992-01-10  0.008837   0.0       NaN"
      ]
     },
     "execution_count": 74,
     "metadata": {},
     "output_type": "execute_result"
    }
   ],
   "source": [
    "#(e)\n",
    "#(ii)\n",
    "TNX = pd.read_csv('TNX.csv',usecols=[0,5])\n",
    "TNX['ret'] = (TNX['Adj Close'] - TNX['Adj Close'].shift(1))/TNX['Adj Close'].shift(1)\n",
    "del TNX['Adj Close']\n",
    "TNX.columns = ['date','ret']\n",
    "TNX.index = TNX['date']\n",
    "del TNX['date']\n",
    "TNX = TNX.join(data['FOMC'])\n",
    "TNX.dropna(inplace=True)\n",
    "TNX['abnormal'] = np.nan\n",
    "TNX.head()"
   ]
  },
  {
   "cell_type": "code",
   "execution_count": 79,
   "metadata": {},
   "outputs": [
    {
     "name": "stdout",
     "output_type": "stream",
     "text": [
      "z-score is -0.1515\n"
     ]
    }
   ],
   "source": [
    "FOMC_df = TNX.loc['1993-01-01':'2015-12-31',:][TNX.loc['1993-01-01':'2015-12-31',:]['FOMC']==1]\n",
    "FOMC_abnormal = []\n",
    "for i in range(len(FOMC_df.index)):\n",
    "    info = FOMC_df.iloc[i,:]\n",
    "    estimation_start = datetime.date(info.name.year-1,info.name.month,info.name.day).strftime(format = '%Y-%m-%d')\n",
    "    estimation_end = (datetime.date(info.name.year,info.name.month,info.name.day)-datetime.timedelta(days=1)).strftime(format = '%Y-%m-%d')\n",
    "    estimation_avg = TNX.loc[estimation_start:estimation_end,'ret'].mean()\n",
    "    TNX.loc[estimation_start:estimation_end,'abnormal'] = TNX.loc[estimation_start:estimation_end,'ret'] - window_avg\n",
    "    FOMC_abnormal.append(info['ret']-estimation_avg)\n",
    "FOMC_abnormal = pd.Series(FOMC_abnormal,name='FOMC abnormal')\n",
    "N = len(FOMC_abnormal)\n",
    "z_score = FOMC_abnormal.mean()/(1/N**2*(FOMC_abnormal**2).sum())**0.5\n",
    "print(\"z-score is %.4f\" %z_score)"
   ]
  },
  {
   "cell_type": "code",
   "execution_count": 80,
   "metadata": {},
   "outputs": [
    {
     "name": "stdout",
     "output_type": "stream",
     "text": [
      "z-score is -1.6126\n"
     ]
    }
   ],
   "source": [
    "FOMC_df = TNX.loc['2016-01-01':,:][TNX.loc['2016-01-01':,:]['FOMC']==1]\n",
    "FOMC_abnormal = []\n",
    "for i in range(len(FOMC_df.index)):\n",
    "    info = FOMC_df.iloc[i,:]\n",
    "    estimation_start = datetime.date(info.name.year-1,info.name.month,info.name.day).strftime(format = '%Y-%m-%d')\n",
    "    estimation_end = (datetime.date(info.name.year,info.name.month,info.name.day)-datetime.timedelta(days=1)).strftime(format = '%Y-%m-%d')\n",
    "    estimation_avg = TNX.loc[estimation_start:estimation_end,'ret'].mean()\n",
    "    TNX.loc[estimation_start:estimation_end,'abnormal'] = TNX.loc[estimation_start:estimation_end,'ret'] - window_avg\n",
    "    FOMC_abnormal.append(info['ret']-estimation_avg)\n",
    "FOMC_abnormal = pd.Series(FOMC_abnormal,name='FOMC abnormal')\n",
    "N = len(FOMC_abnormal)\n",
    "z_score = FOMC_abnormal.mean()/(1/N**2*(FOMC_abnormal**2).sum())**0.5\n",
    "print(\"z-score is %.4f\" %z_score)"
   ]
  },
  {
   "cell_type": "code",
   "execution_count": null,
   "metadata": {},
   "outputs": [],
   "source": []
  },
  {
   "cell_type": "code",
   "execution_count": null,
   "metadata": {},
   "outputs": [],
   "source": []
  },
  {
   "cell_type": "code",
   "execution_count": null,
   "metadata": {},
   "outputs": [],
   "source": []
  },
  {
   "cell_type": "code",
   "execution_count": null,
   "metadata": {},
   "outputs": [],
   "source": []
  }
 ],
 "metadata": {
  "kernelspec": {
   "display_name": "Python 3",
   "language": "python",
   "name": "python3"
  },
  "language_info": {
   "codemirror_mode": {
    "name": "ipython",
    "version": 3
   },
   "file_extension": ".py",
   "mimetype": "text/x-python",
   "name": "python",
   "nbconvert_exporter": "python",
   "pygments_lexer": "ipython3",
   "version": "3.7.6"
  }
 },
 "nbformat": 4,
 "nbformat_minor": 4
}
