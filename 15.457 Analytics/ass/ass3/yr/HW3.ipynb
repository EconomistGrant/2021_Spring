{
 "cells": [
  {
   "cell_type": "code",
   "execution_count": 1,
   "metadata": {},
   "outputs": [],
   "source": [
    "import pandas as pd \n",
    "import numpy as np\n",
    "import matplotlib.pyplot as plt"
   ]
  },
  {
   "cell_type": "code",
   "execution_count": 2,
   "metadata": {},
   "outputs": [
    {
     "data": {
      "text/html": [
       "<div>\n",
       "<style scoped>\n",
       "    .dataframe tbody tr th:only-of-type {\n",
       "        vertical-align: middle;\n",
       "    }\n",
       "\n",
       "    .dataframe tbody tr th {\n",
       "        vertical-align: top;\n",
       "    }\n",
       "\n",
       "    .dataframe thead th {\n",
       "        text-align: right;\n",
       "    }\n",
       "</style>\n",
       "<table border=\"1\" class=\"dataframe\">\n",
       "  <thead>\n",
       "    <tr style=\"text-align: right;\">\n",
       "      <th></th>\n",
       "      <th>Time</th>\n",
       "      <th>PM1</th>\n",
       "      <th>PM2</th>\n",
       "    </tr>\n",
       "  </thead>\n",
       "  <tbody>\n",
       "    <tr>\n",
       "      <th>0</th>\n",
       "      <td>2005.01</td>\n",
       "      <td>-0.063230</td>\n",
       "      <td>0.006049</td>\n",
       "    </tr>\n",
       "    <tr>\n",
       "      <th>1</th>\n",
       "      <td>2005.02</td>\n",
       "      <td>0.005775</td>\n",
       "      <td>0.023234</td>\n",
       "    </tr>\n",
       "    <tr>\n",
       "      <th>2</th>\n",
       "      <td>2005.03</td>\n",
       "      <td>-0.040356</td>\n",
       "      <td>-0.011162</td>\n",
       "    </tr>\n",
       "    <tr>\n",
       "      <th>3</th>\n",
       "      <td>2005.04</td>\n",
       "      <td>-0.062735</td>\n",
       "      <td>-0.019199</td>\n",
       "    </tr>\n",
       "    <tr>\n",
       "      <th>4</th>\n",
       "      <td>2005.05</td>\n",
       "      <td>0.077903</td>\n",
       "      <td>0.037375</td>\n",
       "    </tr>\n",
       "  </tbody>\n",
       "</table>\n",
       "</div>"
      ],
      "text/plain": [
       "      Time       PM1       PM2\n",
       "0  2005.01 -0.063230  0.006049\n",
       "1  2005.02  0.005775  0.023234\n",
       "2  2005.03 -0.040356 -0.011162\n",
       "3  2005.04 -0.062735 -0.019199\n",
       "4  2005.05  0.077903  0.037375"
      ]
     },
     "execution_count": 2,
     "metadata": {},
     "output_type": "execute_result"
    }
   ],
   "source": [
    "pm = pd.read_excel('PM.xlsx')\n",
    "pm = pm.rename(columns={'Unnamed: 0':'Time'})\n",
    "pm /= 100\n",
    "pm.head()"
   ]
  },
  {
   "cell_type": "code",
   "execution_count": 3,
   "metadata": {},
   "outputs": [
    {
     "data": {
      "text/html": [
       "<div>\n",
       "<style scoped>\n",
       "    .dataframe tbody tr th:only-of-type {\n",
       "        vertical-align: middle;\n",
       "    }\n",
       "\n",
       "    .dataframe tbody tr th {\n",
       "        vertical-align: top;\n",
       "    }\n",
       "\n",
       "    .dataframe thead th {\n",
       "        text-align: right;\n",
       "    }\n",
       "</style>\n",
       "<table border=\"1\" class=\"dataframe\">\n",
       "  <thead>\n",
       "    <tr style=\"text-align: right;\">\n",
       "      <th></th>\n",
       "      <th>Time</th>\n",
       "      <th>Mkt-RF</th>\n",
       "      <th>SMB</th>\n",
       "      <th>HML</th>\n",
       "      <th>RF</th>\n",
       "    </tr>\n",
       "  </thead>\n",
       "  <tbody>\n",
       "    <tr>\n",
       "      <th>0</th>\n",
       "      <td>1926.07</td>\n",
       "      <td>0.0296</td>\n",
       "      <td>-0.0230</td>\n",
       "      <td>-0.0287</td>\n",
       "      <td>0.0022</td>\n",
       "    </tr>\n",
       "    <tr>\n",
       "      <th>1</th>\n",
       "      <td>1926.08</td>\n",
       "      <td>0.0264</td>\n",
       "      <td>-0.0140</td>\n",
       "      <td>0.0419</td>\n",
       "      <td>0.0025</td>\n",
       "    </tr>\n",
       "    <tr>\n",
       "      <th>2</th>\n",
       "      <td>1926.09</td>\n",
       "      <td>0.0036</td>\n",
       "      <td>-0.0132</td>\n",
       "      <td>0.0001</td>\n",
       "      <td>0.0023</td>\n",
       "    </tr>\n",
       "    <tr>\n",
       "      <th>3</th>\n",
       "      <td>1926.10</td>\n",
       "      <td>-0.0324</td>\n",
       "      <td>0.0004</td>\n",
       "      <td>0.0051</td>\n",
       "      <td>0.0032</td>\n",
       "    </tr>\n",
       "    <tr>\n",
       "      <th>4</th>\n",
       "      <td>1926.11</td>\n",
       "      <td>0.0253</td>\n",
       "      <td>-0.0020</td>\n",
       "      <td>-0.0035</td>\n",
       "      <td>0.0031</td>\n",
       "    </tr>\n",
       "  </tbody>\n",
       "</table>\n",
       "</div>"
      ],
      "text/plain": [
       "      Time  Mkt-RF     SMB     HML      RF\n",
       "0  1926.07  0.0296 -0.0230 -0.0287  0.0022\n",
       "1  1926.08  0.0264 -0.0140  0.0419  0.0025\n",
       "2  1926.09  0.0036 -0.0132  0.0001  0.0023\n",
       "3  1926.10 -0.0324  0.0004  0.0051  0.0032\n",
       "4  1926.11  0.0253 -0.0020 -0.0035  0.0031"
      ]
     },
     "execution_count": 3,
     "metadata": {},
     "output_type": "execute_result"
    }
   ],
   "source": [
    "data = pd.read_csv('F-F_Research_Data_Factors.CSV', skiprows=3, nrows=1134)\n",
    "data = data.rename(columns={'Unnamed: 0':'Time'})\n",
    "data /= 100\n",
    "data.head()"
   ]
  },
  {
   "cell_type": "markdown",
   "metadata": {},
   "source": [
    "## (a) Summarize the performances of the two managers"
   ]
  },
  {
   "cell_type": "code",
   "execution_count": 4,
   "metadata": {
    "scrolled": true
   },
   "outputs": [
    {
     "data": {
      "text/html": [
       "<div>\n",
       "<style scoped>\n",
       "    .dataframe tbody tr th:only-of-type {\n",
       "        vertical-align: middle;\n",
       "    }\n",
       "\n",
       "    .dataframe tbody tr th {\n",
       "        vertical-align: top;\n",
       "    }\n",
       "\n",
       "    .dataframe thead th {\n",
       "        text-align: right;\n",
       "    }\n",
       "</style>\n",
       "<table border=\"1\" class=\"dataframe\">\n",
       "  <thead>\n",
       "    <tr style=\"text-align: right;\">\n",
       "      <th></th>\n",
       "      <th>Time</th>\n",
       "      <th>PM1</th>\n",
       "      <th>PM2</th>\n",
       "      <th>Mkt-RF</th>\n",
       "      <th>SMB</th>\n",
       "      <th>HML</th>\n",
       "      <th>RF</th>\n",
       "    </tr>\n",
       "  </thead>\n",
       "  <tbody>\n",
       "    <tr>\n",
       "      <th>0</th>\n",
       "      <td>2005.01</td>\n",
       "      <td>-0.063230</td>\n",
       "      <td>0.006049</td>\n",
       "      <td>-0.0276</td>\n",
       "      <td>-0.0172</td>\n",
       "      <td>0.0201</td>\n",
       "      <td>0.0016</td>\n",
       "    </tr>\n",
       "    <tr>\n",
       "      <th>1</th>\n",
       "      <td>2005.02</td>\n",
       "      <td>0.005775</td>\n",
       "      <td>0.023234</td>\n",
       "      <td>0.0189</td>\n",
       "      <td>-0.0055</td>\n",
       "      <td>0.0163</td>\n",
       "      <td>0.0016</td>\n",
       "    </tr>\n",
       "    <tr>\n",
       "      <th>2</th>\n",
       "      <td>2005.03</td>\n",
       "      <td>-0.040356</td>\n",
       "      <td>-0.011162</td>\n",
       "      <td>-0.0197</td>\n",
       "      <td>-0.0135</td>\n",
       "      <td>0.0214</td>\n",
       "      <td>0.0021</td>\n",
       "    </tr>\n",
       "    <tr>\n",
       "      <th>3</th>\n",
       "      <td>2005.04</td>\n",
       "      <td>-0.062735</td>\n",
       "      <td>-0.019199</td>\n",
       "      <td>-0.0261</td>\n",
       "      <td>-0.0397</td>\n",
       "      <td>0.0005</td>\n",
       "      <td>0.0021</td>\n",
       "    </tr>\n",
       "    <tr>\n",
       "      <th>4</th>\n",
       "      <td>2005.05</td>\n",
       "      <td>0.077903</td>\n",
       "      <td>0.037375</td>\n",
       "      <td>0.0365</td>\n",
       "      <td>0.0280</td>\n",
       "      <td>-0.0066</td>\n",
       "      <td>0.0024</td>\n",
       "    </tr>\n",
       "    <tr>\n",
       "      <th>5</th>\n",
       "      <td>2005.06</td>\n",
       "      <td>0.005936</td>\n",
       "      <td>0.008399</td>\n",
       "      <td>0.0057</td>\n",
       "      <td>0.0255</td>\n",
       "      <td>0.0282</td>\n",
       "      <td>0.0023</td>\n",
       "    </tr>\n",
       "    <tr>\n",
       "      <th>6</th>\n",
       "      <td>2005.07</td>\n",
       "      <td>0.080005</td>\n",
       "      <td>0.042041</td>\n",
       "      <td>0.0392</td>\n",
       "      <td>0.0287</td>\n",
       "      <td>-0.0083</td>\n",
       "      <td>0.0024</td>\n",
       "    </tr>\n",
       "    <tr>\n",
       "      <th>7</th>\n",
       "      <td>2005.08</td>\n",
       "      <td>-0.030622</td>\n",
       "      <td>-0.007527</td>\n",
       "      <td>-0.0122</td>\n",
       "      <td>-0.0098</td>\n",
       "      <td>0.0138</td>\n",
       "      <td>0.0030</td>\n",
       "    </tr>\n",
       "    <tr>\n",
       "      <th>8</th>\n",
       "      <td>2005.09</td>\n",
       "      <td>0.001882</td>\n",
       "      <td>0.028556</td>\n",
       "      <td>0.0049</td>\n",
       "      <td>-0.0066</td>\n",
       "      <td>0.0074</td>\n",
       "      <td>0.0029</td>\n",
       "    </tr>\n",
       "    <tr>\n",
       "      <th>9</th>\n",
       "      <td>2005.10</td>\n",
       "      <td>-0.046892</td>\n",
       "      <td>-0.008249</td>\n",
       "      <td>-0.0202</td>\n",
       "      <td>-0.0119</td>\n",
       "      <td>0.0045</td>\n",
       "      <td>0.0027</td>\n",
       "    </tr>\n",
       "    <tr>\n",
       "      <th>10</th>\n",
       "      <td>2005.11</td>\n",
       "      <td>0.063441</td>\n",
       "      <td>0.043001</td>\n",
       "      <td>0.0361</td>\n",
       "      <td>0.0097</td>\n",
       "      <td>-0.0116</td>\n",
       "      <td>0.0031</td>\n",
       "    </tr>\n",
       "    <tr>\n",
       "      <th>11</th>\n",
       "      <td>2005.12</td>\n",
       "      <td>-0.018131</td>\n",
       "      <td>-0.009711</td>\n",
       "      <td>-0.0025</td>\n",
       "      <td>-0.0046</td>\n",
       "      <td>0.0024</td>\n",
       "      <td>0.0032</td>\n",
       "    </tr>\n",
       "    <tr>\n",
       "      <th>12</th>\n",
       "      <td>2006.01</td>\n",
       "      <td>0.064644</td>\n",
       "      <td>0.029876</td>\n",
       "      <td>0.0304</td>\n",
       "      <td>0.0540</td>\n",
       "      <td>0.0099</td>\n",
       "      <td>0.0035</td>\n",
       "    </tr>\n",
       "    <tr>\n",
       "      <th>13</th>\n",
       "      <td>2006.02</td>\n",
       "      <td>-0.003117</td>\n",
       "      <td>-0.011322</td>\n",
       "      <td>-0.0030</td>\n",
       "      <td>-0.0037</td>\n",
       "      <td>-0.0026</td>\n",
       "      <td>0.0034</td>\n",
       "    </tr>\n",
       "    <tr>\n",
       "      <th>14</th>\n",
       "      <td>2006.03</td>\n",
       "      <td>0.050029</td>\n",
       "      <td>0.014950</td>\n",
       "      <td>0.0146</td>\n",
       "      <td>0.0349</td>\n",
       "      <td>0.0068</td>\n",
       "      <td>0.0037</td>\n",
       "    </tr>\n",
       "    <tr>\n",
       "      <th>15</th>\n",
       "      <td>2006.04</td>\n",
       "      <td>-0.016883</td>\n",
       "      <td>0.015409</td>\n",
       "      <td>0.0073</td>\n",
       "      <td>-0.0141</td>\n",
       "      <td>0.0237</td>\n",
       "      <td>0.0036</td>\n",
       "    </tr>\n",
       "    <tr>\n",
       "      <th>16</th>\n",
       "      <td>2006.05</td>\n",
       "      <td>-0.084305</td>\n",
       "      <td>-0.015227</td>\n",
       "      <td>-0.0357</td>\n",
       "      <td>-0.0309</td>\n",
       "      <td>0.0245</td>\n",
       "      <td>0.0043</td>\n",
       "    </tr>\n",
       "    <tr>\n",
       "      <th>17</th>\n",
       "      <td>2006.06</td>\n",
       "      <td>-0.007387</td>\n",
       "      <td>-0.004887</td>\n",
       "      <td>-0.0035</td>\n",
       "      <td>-0.0036</td>\n",
       "      <td>0.0092</td>\n",
       "      <td>0.0040</td>\n",
       "    </tr>\n",
       "    <tr>\n",
       "      <th>18</th>\n",
       "      <td>2006.07</td>\n",
       "      <td>-0.058979</td>\n",
       "      <td>0.012450</td>\n",
       "      <td>-0.0078</td>\n",
       "      <td>-0.0399</td>\n",
       "      <td>0.0267</td>\n",
       "      <td>0.0040</td>\n",
       "    </tr>\n",
       "    <tr>\n",
       "      <th>19</th>\n",
       "      <td>2006.08</td>\n",
       "      <td>0.049689</td>\n",
       "      <td>0.012513</td>\n",
       "      <td>0.0203</td>\n",
       "      <td>0.0102</td>\n",
       "      <td>-0.0198</td>\n",
       "      <td>0.0042</td>\n",
       "    </tr>\n",
       "    <tr>\n",
       "      <th>20</th>\n",
       "      <td>2006.09</td>\n",
       "      <td>0.014165</td>\n",
       "      <td>0.031004</td>\n",
       "      <td>0.0184</td>\n",
       "      <td>-0.0129</td>\n",
       "      <td>-0.0004</td>\n",
       "      <td>0.0041</td>\n",
       "    </tr>\n",
       "    <tr>\n",
       "      <th>21</th>\n",
       "      <td>2006.10</td>\n",
       "      <td>0.063998</td>\n",
       "      <td>0.042493</td>\n",
       "      <td>0.0323</td>\n",
       "      <td>0.0172</td>\n",
       "      <td>-0.0030</td>\n",
       "      <td>0.0041</td>\n",
       "    </tr>\n",
       "    <tr>\n",
       "      <th>22</th>\n",
       "      <td>2006.11</td>\n",
       "      <td>0.037004</td>\n",
       "      <td>0.010326</td>\n",
       "      <td>0.0171</td>\n",
       "      <td>0.0078</td>\n",
       "      <td>0.0007</td>\n",
       "      <td>0.0042</td>\n",
       "    </tr>\n",
       "    <tr>\n",
       "      <th>23</th>\n",
       "      <td>2006.12</td>\n",
       "      <td>-0.024236</td>\n",
       "      <td>0.028271</td>\n",
       "      <td>0.0087</td>\n",
       "      <td>-0.0114</td>\n",
       "      <td>0.0272</td>\n",
       "      <td>0.0040</td>\n",
       "    </tr>\n",
       "    <tr>\n",
       "      <th>24</th>\n",
       "      <td>2007.01</td>\n",
       "      <td>0.020388</td>\n",
       "      <td>0.028391</td>\n",
       "      <td>0.0140</td>\n",
       "      <td>0.0016</td>\n",
       "      <td>-0.0069</td>\n",
       "      <td>0.0044</td>\n",
       "    </tr>\n",
       "    <tr>\n",
       "      <th>25</th>\n",
       "      <td>2007.02</td>\n",
       "      <td>-0.010371</td>\n",
       "      <td>-0.015704</td>\n",
       "      <td>-0.0196</td>\n",
       "      <td>0.0129</td>\n",
       "      <td>-0.0017</td>\n",
       "      <td>0.0038</td>\n",
       "    </tr>\n",
       "    <tr>\n",
       "      <th>26</th>\n",
       "      <td>2007.03</td>\n",
       "      <td>0.011413</td>\n",
       "      <td>0.016027</td>\n",
       "      <td>0.0068</td>\n",
       "      <td>0.0008</td>\n",
       "      <td>-0.0083</td>\n",
       "      <td>0.0043</td>\n",
       "    </tr>\n",
       "    <tr>\n",
       "      <th>27</th>\n",
       "      <td>2007.04</td>\n",
       "      <td>0.038547</td>\n",
       "      <td>0.026225</td>\n",
       "      <td>0.0349</td>\n",
       "      <td>-0.0218</td>\n",
       "      <td>-0.0138</td>\n",
       "      <td>0.0044</td>\n",
       "    </tr>\n",
       "    <tr>\n",
       "      <th>28</th>\n",
       "      <td>2007.05</td>\n",
       "      <td>0.046401</td>\n",
       "      <td>0.038331</td>\n",
       "      <td>0.0324</td>\n",
       "      <td>0.0027</td>\n",
       "      <td>-0.0063</td>\n",
       "      <td>0.0041</td>\n",
       "    </tr>\n",
       "    <tr>\n",
       "      <th>29</th>\n",
       "      <td>2007.06</td>\n",
       "      <td>0.002154</td>\n",
       "      <td>-0.023261</td>\n",
       "      <td>-0.0196</td>\n",
       "      <td>0.0078</td>\n",
       "      <td>-0.0110</td>\n",
       "      <td>0.0040</td>\n",
       "    </tr>\n",
       "    <tr>\n",
       "      <th>...</th>\n",
       "      <td>...</td>\n",
       "      <td>...</td>\n",
       "      <td>...</td>\n",
       "      <td>...</td>\n",
       "      <td>...</td>\n",
       "      <td>...</td>\n",
       "      <td>...</td>\n",
       "    </tr>\n",
       "    <tr>\n",
       "      <th>150</th>\n",
       "      <td>2017.07</td>\n",
       "      <td>0.007466</td>\n",
       "      <td>0.019827</td>\n",
       "      <td>0.0187</td>\n",
       "      <td>-0.0147</td>\n",
       "      <td>-0.0036</td>\n",
       "      <td>0.0007</td>\n",
       "    </tr>\n",
       "    <tr>\n",
       "      <th>151</th>\n",
       "      <td>2017.08</td>\n",
       "      <td>0.000399</td>\n",
       "      <td>-0.006227</td>\n",
       "      <td>0.0016</td>\n",
       "      <td>-0.0162</td>\n",
       "      <td>-0.0219</td>\n",
       "      <td>0.0009</td>\n",
       "    </tr>\n",
       "    <tr>\n",
       "      <th>152</th>\n",
       "      <td>2017.09</td>\n",
       "      <td>0.049873</td>\n",
       "      <td>0.019466</td>\n",
       "      <td>0.0251</td>\n",
       "      <td>0.0447</td>\n",
       "      <td>0.0314</td>\n",
       "      <td>0.0009</td>\n",
       "    </tr>\n",
       "    <tr>\n",
       "      <th>153</th>\n",
       "      <td>2017.10</td>\n",
       "      <td>0.007961</td>\n",
       "      <td>0.029521</td>\n",
       "      <td>0.0225</td>\n",
       "      <td>-0.0195</td>\n",
       "      <td>0.0012</td>\n",
       "      <td>0.0009</td>\n",
       "    </tr>\n",
       "    <tr>\n",
       "      <th>154</th>\n",
       "      <td>2017.11</td>\n",
       "      <td>0.032265</td>\n",
       "      <td>0.027565</td>\n",
       "      <td>0.0312</td>\n",
       "      <td>-0.0058</td>\n",
       "      <td>-0.0009</td>\n",
       "      <td>0.0008</td>\n",
       "    </tr>\n",
       "    <tr>\n",
       "      <th>155</th>\n",
       "      <td>2017.12</td>\n",
       "      <td>0.008749</td>\n",
       "      <td>0.023644</td>\n",
       "      <td>0.0106</td>\n",
       "      <td>-0.0129</td>\n",
       "      <td>0.0017</td>\n",
       "      <td>0.0009</td>\n",
       "    </tr>\n",
       "    <tr>\n",
       "      <th>156</th>\n",
       "      <td>2018.01</td>\n",
       "      <td>0.057651</td>\n",
       "      <td>0.056907</td>\n",
       "      <td>0.0558</td>\n",
       "      <td>-0.0309</td>\n",
       "      <td>-0.0132</td>\n",
       "      <td>0.0011</td>\n",
       "    </tr>\n",
       "    <tr>\n",
       "      <th>157</th>\n",
       "      <td>2018.02</td>\n",
       "      <td>-0.043178</td>\n",
       "      <td>-0.038661</td>\n",
       "      <td>-0.0365</td>\n",
       "      <td>0.0030</td>\n",
       "      <td>-0.0101</td>\n",
       "      <td>0.0011</td>\n",
       "    </tr>\n",
       "    <tr>\n",
       "      <th>158</th>\n",
       "      <td>2018.03</td>\n",
       "      <td>0.007602</td>\n",
       "      <td>-0.034653</td>\n",
       "      <td>-0.0235</td>\n",
       "      <td>0.0405</td>\n",
       "      <td>-0.0012</td>\n",
       "      <td>0.0012</td>\n",
       "    </tr>\n",
       "    <tr>\n",
       "      <th>159</th>\n",
       "      <td>2018.04</td>\n",
       "      <td>-0.002696</td>\n",
       "      <td>0.017188</td>\n",
       "      <td>0.0029</td>\n",
       "      <td>0.0113</td>\n",
       "      <td>0.0050</td>\n",
       "      <td>0.0014</td>\n",
       "    </tr>\n",
       "    <tr>\n",
       "      <th>160</th>\n",
       "      <td>2018.05</td>\n",
       "      <td>0.090486</td>\n",
       "      <td>0.008630</td>\n",
       "      <td>0.0265</td>\n",
       "      <td>0.0528</td>\n",
       "      <td>-0.0315</td>\n",
       "      <td>0.0014</td>\n",
       "    </tr>\n",
       "    <tr>\n",
       "      <th>161</th>\n",
       "      <td>2018.06</td>\n",
       "      <td>0.033895</td>\n",
       "      <td>-0.004897</td>\n",
       "      <td>0.0048</td>\n",
       "      <td>0.0119</td>\n",
       "      <td>-0.0231</td>\n",
       "      <td>0.0014</td>\n",
       "    </tr>\n",
       "    <tr>\n",
       "      <th>162</th>\n",
       "      <td>2018.07</td>\n",
       "      <td>0.017003</td>\n",
       "      <td>0.028190</td>\n",
       "      <td>0.0319</td>\n",
       "      <td>-0.0221</td>\n",
       "      <td>0.0057</td>\n",
       "      <td>0.0016</td>\n",
       "    </tr>\n",
       "    <tr>\n",
       "      <th>163</th>\n",
       "      <td>2018.08</td>\n",
       "      <td>0.078180</td>\n",
       "      <td>-0.016399</td>\n",
       "      <td>0.0344</td>\n",
       "      <td>0.0115</td>\n",
       "      <td>-0.0392</td>\n",
       "      <td>0.0016</td>\n",
       "    </tr>\n",
       "    <tr>\n",
       "      <th>164</th>\n",
       "      <td>2018.09</td>\n",
       "      <td>-0.008239</td>\n",
       "      <td>-0.001301</td>\n",
       "      <td>0.0006</td>\n",
       "      <td>-0.0228</td>\n",
       "      <td>-0.0163</td>\n",
       "      <td>0.0015</td>\n",
       "    </tr>\n",
       "    <tr>\n",
       "      <th>165</th>\n",
       "      <td>2018.10</td>\n",
       "      <td>-0.163408</td>\n",
       "      <td>-0.043423</td>\n",
       "      <td>-0.0768</td>\n",
       "      <td>-0.0478</td>\n",
       "      <td>0.0346</td>\n",
       "      <td>0.0019</td>\n",
       "    </tr>\n",
       "    <tr>\n",
       "      <th>166</th>\n",
       "      <td>2018.11</td>\n",
       "      <td>0.017919</td>\n",
       "      <td>0.027019</td>\n",
       "      <td>0.0169</td>\n",
       "      <td>-0.0071</td>\n",
       "      <td>0.0034</td>\n",
       "      <td>0.0018</td>\n",
       "    </tr>\n",
       "    <tr>\n",
       "      <th>167</th>\n",
       "      <td>2018.12</td>\n",
       "      <td>-0.126521</td>\n",
       "      <td>-0.083632</td>\n",
       "      <td>-0.0955</td>\n",
       "      <td>-0.0248</td>\n",
       "      <td>-0.0189</td>\n",
       "      <td>0.0019</td>\n",
       "    </tr>\n",
       "    <tr>\n",
       "      <th>168</th>\n",
       "      <td>2019.01</td>\n",
       "      <td>0.143934</td>\n",
       "      <td>0.074704</td>\n",
       "      <td>0.0841</td>\n",
       "      <td>0.0289</td>\n",
       "      <td>-0.0046</td>\n",
       "      <td>0.0021</td>\n",
       "    </tr>\n",
       "    <tr>\n",
       "      <th>169</th>\n",
       "      <td>2019.02</td>\n",
       "      <td>0.086020</td>\n",
       "      <td>0.002669</td>\n",
       "      <td>0.0340</td>\n",
       "      <td>0.0212</td>\n",
       "      <td>-0.0271</td>\n",
       "      <td>0.0018</td>\n",
       "    </tr>\n",
       "    <tr>\n",
       "      <th>170</th>\n",
       "      <td>2019.03</td>\n",
       "      <td>0.016226</td>\n",
       "      <td>-0.001023</td>\n",
       "      <td>0.0110</td>\n",
       "      <td>-0.0305</td>\n",
       "      <td>-0.0419</td>\n",
       "      <td>0.0019</td>\n",
       "    </tr>\n",
       "    <tr>\n",
       "      <th>171</th>\n",
       "      <td>2019.04</td>\n",
       "      <td>0.026797</td>\n",
       "      <td>0.064582</td>\n",
       "      <td>0.0396</td>\n",
       "      <td>-0.0175</td>\n",
       "      <td>0.0202</td>\n",
       "      <td>0.0021</td>\n",
       "    </tr>\n",
       "    <tr>\n",
       "      <th>172</th>\n",
       "      <td>2019.05</td>\n",
       "      <td>-0.086636</td>\n",
       "      <td>-0.062983</td>\n",
       "      <td>-0.0694</td>\n",
       "      <td>-0.0118</td>\n",
       "      <td>-0.0228</td>\n",
       "      <td>0.0021</td>\n",
       "    </tr>\n",
       "    <tr>\n",
       "      <th>173</th>\n",
       "      <td>2019.06</td>\n",
       "      <td>0.093371</td>\n",
       "      <td>0.062544</td>\n",
       "      <td>0.0693</td>\n",
       "      <td>0.0022</td>\n",
       "      <td>-0.0079</td>\n",
       "      <td>0.0018</td>\n",
       "    </tr>\n",
       "    <tr>\n",
       "      <th>174</th>\n",
       "      <td>2019.07</td>\n",
       "      <td>-0.005186</td>\n",
       "      <td>0.013288</td>\n",
       "      <td>0.0119</td>\n",
       "      <td>-0.0208</td>\n",
       "      <td>0.0034</td>\n",
       "      <td>0.0019</td>\n",
       "    </tr>\n",
       "    <tr>\n",
       "      <th>175</th>\n",
       "      <td>2019.08</td>\n",
       "      <td>-0.013106</td>\n",
       "      <td>-0.046814</td>\n",
       "      <td>-0.0258</td>\n",
       "      <td>-0.0240</td>\n",
       "      <td>-0.0485</td>\n",
       "      <td>0.0016</td>\n",
       "    </tr>\n",
       "    <tr>\n",
       "      <th>176</th>\n",
       "      <td>2019.09</td>\n",
       "      <td>-0.028866</td>\n",
       "      <td>0.051177</td>\n",
       "      <td>0.0143</td>\n",
       "      <td>-0.0105</td>\n",
       "      <td>0.0677</td>\n",
       "      <td>0.0018</td>\n",
       "    </tr>\n",
       "    <tr>\n",
       "      <th>177</th>\n",
       "      <td>2019.10</td>\n",
       "      <td>0.038801</td>\n",
       "      <td>0.009396</td>\n",
       "      <td>0.0206</td>\n",
       "      <td>0.0024</td>\n",
       "      <td>-0.0188</td>\n",
       "      <td>0.0015</td>\n",
       "    </tr>\n",
       "    <tr>\n",
       "      <th>178</th>\n",
       "      <td>2019.11</td>\n",
       "      <td>0.083409</td>\n",
       "      <td>0.035125</td>\n",
       "      <td>0.0387</td>\n",
       "      <td>0.0091</td>\n",
       "      <td>-0.0205</td>\n",
       "      <td>0.0012</td>\n",
       "    </tr>\n",
       "    <tr>\n",
       "      <th>179</th>\n",
       "      <td>2019.12</td>\n",
       "      <td>0.023268</td>\n",
       "      <td>0.044237</td>\n",
       "      <td>0.0277</td>\n",
       "      <td>0.0067</td>\n",
       "      <td>0.0191</td>\n",
       "      <td>0.0014</td>\n",
       "    </tr>\n",
       "  </tbody>\n",
       "</table>\n",
       "<p>180 rows × 7 columns</p>\n",
       "</div>"
      ],
      "text/plain": [
       "        Time       PM1       PM2  Mkt-RF     SMB     HML      RF\n",
       "0    2005.01 -0.063230  0.006049 -0.0276 -0.0172  0.0201  0.0016\n",
       "1    2005.02  0.005775  0.023234  0.0189 -0.0055  0.0163  0.0016\n",
       "2    2005.03 -0.040356 -0.011162 -0.0197 -0.0135  0.0214  0.0021\n",
       "3    2005.04 -0.062735 -0.019199 -0.0261 -0.0397  0.0005  0.0021\n",
       "4    2005.05  0.077903  0.037375  0.0365  0.0280 -0.0066  0.0024\n",
       "..       ...       ...       ...     ...     ...     ...     ...\n",
       "175  2019.08 -0.013106 -0.046814 -0.0258 -0.0240 -0.0485  0.0016\n",
       "176  2019.09 -0.028866  0.051177  0.0143 -0.0105  0.0677  0.0018\n",
       "177  2019.10  0.038801  0.009396  0.0206  0.0024 -0.0188  0.0015\n",
       "178  2019.11  0.083409  0.035125  0.0387  0.0091 -0.0205  0.0012\n",
       "179  2019.12  0.023268  0.044237  0.0277  0.0067  0.0191  0.0014\n",
       "\n",
       "[180 rows x 7 columns]"
      ]
     },
     "execution_count": 4,
     "metadata": {},
     "output_type": "execute_result"
    }
   ],
   "source": [
    "pm = pd.merge(pm, data, on='Time', how='left')\n",
    "pm"
   ]
  },
  {
   "cell_type": "code",
   "execution_count": 5,
   "metadata": {
    "scrolled": true
   },
   "outputs": [
    {
     "data": {
      "text/html": [
       "<div>\n",
       "<style scoped>\n",
       "    .dataframe tbody tr th:only-of-type {\n",
       "        vertical-align: middle;\n",
       "    }\n",
       "\n",
       "    .dataframe tbody tr th {\n",
       "        vertical-align: top;\n",
       "    }\n",
       "\n",
       "    .dataframe thead th {\n",
       "        text-align: right;\n",
       "    }\n",
       "</style>\n",
       "<table border=\"1\" class=\"dataframe\">\n",
       "  <thead>\n",
       "    <tr style=\"text-align: right;\">\n",
       "      <th></th>\n",
       "      <th>Time</th>\n",
       "      <th>PM1</th>\n",
       "      <th>PM2</th>\n",
       "      <th>Mkt-RF</th>\n",
       "      <th>SMB</th>\n",
       "      <th>HML</th>\n",
       "      <th>RF</th>\n",
       "      <th>PM1-RF</th>\n",
       "      <th>PM2-RF</th>\n",
       "    </tr>\n",
       "  </thead>\n",
       "  <tbody>\n",
       "    <tr>\n",
       "      <th>0</th>\n",
       "      <td>2005.01</td>\n",
       "      <td>-0.063230</td>\n",
       "      <td>0.006049</td>\n",
       "      <td>-0.0276</td>\n",
       "      <td>-0.0172</td>\n",
       "      <td>0.0201</td>\n",
       "      <td>0.0016</td>\n",
       "      <td>-0.064830</td>\n",
       "      <td>0.004449</td>\n",
       "    </tr>\n",
       "    <tr>\n",
       "      <th>1</th>\n",
       "      <td>2005.02</td>\n",
       "      <td>0.005775</td>\n",
       "      <td>0.023234</td>\n",
       "      <td>0.0189</td>\n",
       "      <td>-0.0055</td>\n",
       "      <td>0.0163</td>\n",
       "      <td>0.0016</td>\n",
       "      <td>0.004175</td>\n",
       "      <td>0.021634</td>\n",
       "    </tr>\n",
       "    <tr>\n",
       "      <th>2</th>\n",
       "      <td>2005.03</td>\n",
       "      <td>-0.040356</td>\n",
       "      <td>-0.011162</td>\n",
       "      <td>-0.0197</td>\n",
       "      <td>-0.0135</td>\n",
       "      <td>0.0214</td>\n",
       "      <td>0.0021</td>\n",
       "      <td>-0.042456</td>\n",
       "      <td>-0.013262</td>\n",
       "    </tr>\n",
       "    <tr>\n",
       "      <th>3</th>\n",
       "      <td>2005.04</td>\n",
       "      <td>-0.062735</td>\n",
       "      <td>-0.019199</td>\n",
       "      <td>-0.0261</td>\n",
       "      <td>-0.0397</td>\n",
       "      <td>0.0005</td>\n",
       "      <td>0.0021</td>\n",
       "      <td>-0.064835</td>\n",
       "      <td>-0.021299</td>\n",
       "    </tr>\n",
       "    <tr>\n",
       "      <th>4</th>\n",
       "      <td>2005.05</td>\n",
       "      <td>0.077903</td>\n",
       "      <td>0.037375</td>\n",
       "      <td>0.0365</td>\n",
       "      <td>0.0280</td>\n",
       "      <td>-0.0066</td>\n",
       "      <td>0.0024</td>\n",
       "      <td>0.075503</td>\n",
       "      <td>0.034975</td>\n",
       "    </tr>\n",
       "  </tbody>\n",
       "</table>\n",
       "</div>"
      ],
      "text/plain": [
       "      Time       PM1       PM2  Mkt-RF     SMB     HML      RF    PM1-RF  \\\n",
       "0  2005.01 -0.063230  0.006049 -0.0276 -0.0172  0.0201  0.0016 -0.064830   \n",
       "1  2005.02  0.005775  0.023234  0.0189 -0.0055  0.0163  0.0016  0.004175   \n",
       "2  2005.03 -0.040356 -0.011162 -0.0197 -0.0135  0.0214  0.0021 -0.042456   \n",
       "3  2005.04 -0.062735 -0.019199 -0.0261 -0.0397  0.0005  0.0021 -0.064835   \n",
       "4  2005.05  0.077903  0.037375  0.0365  0.0280 -0.0066  0.0024  0.075503   \n",
       "\n",
       "     PM2-RF  \n",
       "0  0.004449  \n",
       "1  0.021634  \n",
       "2 -0.013262  \n",
       "3 -0.021299  \n",
       "4  0.034975  "
      ]
     },
     "execution_count": 5,
     "metadata": {},
     "output_type": "execute_result"
    }
   ],
   "source": [
    "Time = pd.to_datetime(pm.Time*100, format='%Y%m', errors='coerce')\n",
    "pm['PM1-RF'] = pm.PM1 - pm.RF\n",
    "pm['PM2-RF'] = pm.PM2 - pm.RF\n",
    "pm.head()"
   ]
  },
  {
   "cell_type": "markdown",
   "metadata": {},
   "source": [
    "#### Scatter plot"
   ]
  },
  {
   "cell_type": "code",
   "execution_count": 8,
   "metadata": {},
   "outputs": [
    {
     "data": {
      "text/plain": [
       "<matplotlib.legend.Legend at 0x2180fc56828>"
      ]
     },
     "execution_count": 8,
     "metadata": {},
     "output_type": "execute_result"
    },
    {
     "data": {
      "image/png": "[encoded data removed]",
      "text/plain": [
       "<Figure size 432x288 with 1 Axes>"
      ]
     },
     "metadata": {
      "needs_background": "light"
     },
     "output_type": "display_data"
    }
   ],
   "source": [
    "plt.scatter(Time,pm['PM1-RF'],label='PM1')\n",
    "plt.scatter(Time,pm['Mkt-RF'],label='Mkt')\n",
    "plt.legend()"
   ]
  },
  {
   "cell_type": "code",
   "execution_count": 7,
   "metadata": {},
   "outputs": [
    {
     "data": {
      "text/plain": [
       "<matplotlib.legend.Legend at 0x2180fbe0fd0>"
      ]
     },
     "execution_count": 7,
     "metadata": {},
     "output_type": "execute_result"
    },
    {
     "data": {
      "image/png": "[encoded data removed]",
      "text/plain": [
       "<Figure size 432x288 with 1 Axes>"
      ]
     },
     "metadata": {
      "needs_background": "light"
     },
     "output_type": "display_data"
    }
   ],
   "source": [
    "plt.scatter(Time,pm['PM2-RF'],label='PM2')\n",
    "plt.scatter(Time,pm['Mkt-RF'],label='Mkt')\n",
    "plt.legend()"
   ]
  },
  {
   "cell_type": "markdown",
   "metadata": {},
   "source": [
    "#### Boxplot"
   ]
  },
  {
   "cell_type": "code",
   "execution_count": 9,
   "metadata": {},
   "outputs": [
    {
     "data": {
      "text/plain": [
       "<matplotlib.axes._subplots.AxesSubplot at 0x2180fc90470>"
      ]
     },
     "execution_count": 9,
     "metadata": {},
     "output_type": "execute_result"
    },
    {
     "data": {
      "image/png": "[encoded data removed]",
      "text/plain": [
       "<Figure size 432x288 with 1 Axes>"
      ]
     },
     "metadata": {
      "needs_background": "light"
     },
     "output_type": "display_data"
    }
   ],
   "source": [
    "pm.boxplot(column=['PM1-RF','PM2-RF','Mkt-RF'])"
   ]
  },
  {
   "cell_type": "markdown",
   "metadata": {},
   "source": [
    "#### treat outliers"
   ]
  },
  {
   "cell_type": "code",
   "execution_count": 10,
   "metadata": {
    "scrolled": true
   },
   "outputs": [],
   "source": [
    "pm_ = pm.drop(pm.index[pm.PM1 ==max(pm.PM1)])\n",
    "#(pm['PM1-RF'].sum()-max(pm['PM1-RF']))/(len(pm)-1)"
   ]
  },
  {
   "cell_type": "code",
   "execution_count": 11,
   "metadata": {
    "scrolled": true
   },
   "outputs": [
    {
     "data": {
      "text/plain": [
       "<matplotlib.axes._subplots.AxesSubplot at 0x2180fd0efd0>"
      ]
     },
     "execution_count": 11,
     "metadata": {},
     "output_type": "execute_result"
    },
    {
     "data": {
      "image/png": "[encoded data removed]",
      "text/plain": [
       "<Figure size 432x288 with 1 Axes>"
      ]
     },
     "metadata": {
      "needs_background": "light"
     },
     "output_type": "display_data"
    }
   ],
   "source": [
    "pm_.boxplot(column=['PM1-RF','PM2-RF','Mkt-RF'])"
   ]
  },
  {
   "cell_type": "code",
   "execution_count": 14,
   "metadata": {},
   "outputs": [
    {
     "data": {
      "text/plain": [
       "<matplotlib.legend.Legend at 0x2181000c710>"
      ]
     },
     "execution_count": 14,
     "metadata": {},
     "output_type": "execute_result"
    },
    {
     "data": {
      "image/png": "[encoded data removed]",
      "text/plain": [
       "<Figure size 432x288 with 1 Axes>"
      ]
     },
     "metadata": {
      "needs_background": "light"
     },
     "output_type": "display_data"
    }
   ],
   "source": [
    "plt.scatter(Time[:-1],pm_['PM1-RF'],label='PM1')\n",
    "plt.scatter(Time[:-1],pm_['PM2-RF'],label='PM2')\n",
    "plt.scatter(Time[:-1],pm_['Mkt-RF'],label='Mkt')\n",
    "plt.legend()"
   ]
  },
  {
   "cell_type": "code",
   "execution_count": 15,
   "metadata": {},
   "outputs": [],
   "source": [
    "def analyze(monthly_ret,excess_ret):\n",
    "    mean = np.mean(monthly_ret)\n",
    "    std = np.std(monthly_ret)\n",
    "    SR = np.mean(excess_ret)*12 / (np.std(excess_ret)*12**0.5)\n",
    "    diff = excess_ret - pm['Mkt-RF']\n",
    "    info = np.mean(diff)*12 / (np.std(diff)*12**0.5)\n",
    "    val = np.asarray((1+monthly_ret).cumprod())\n",
    "    index_j = np.argmax(np.maximum.accumulate(val) - val) # min\n",
    "    index_i = np.argmax(val[:index_j]) # max\n",
    "    drawdown = 1 - val[index_j]/val[index_i]\n",
    "   \n",
    "    result = pd.DataFrame({'Monthly Return':[mean],\\\n",
    "                           'Monthly Standard Deviation':[std],\\\n",
    "                           'Annual Sharpe Ratio':[SR], \\\n",
    "                           'Annual Information Ratio': [info],\\\n",
    "                           'Max Drowdown': [drawdown]})\n",
    "    return result"
   ]
  },
  {
   "cell_type": "code",
   "execution_count": 16,
   "metadata": {},
   "outputs": [
    {
     "data": {
      "text/html": [
       "<div>\n",
       "<style scoped>\n",
       "    .dataframe tbody tr th:only-of-type {\n",
       "        vertical-align: middle;\n",
       "    }\n",
       "\n",
       "    .dataframe tbody tr th {\n",
       "        vertical-align: top;\n",
       "    }\n",
       "\n",
       "    .dataframe thead th {\n",
       "        text-align: right;\n",
       "    }\n",
       "</style>\n",
       "<table border=\"1\" class=\"dataframe\">\n",
       "  <thead>\n",
       "    <tr style=\"text-align: right;\">\n",
       "      <th></th>\n",
       "      <th>Monthly Return</th>\n",
       "      <th>Monthly Standard Deviation</th>\n",
       "      <th>Annual Sharpe Ratio</th>\n",
       "      <th>Annual Information Ratio</th>\n",
       "      <th>Max Drowdown</th>\n",
       "    </tr>\n",
       "  </thead>\n",
       "  <tbody>\n",
       "    <tr>\n",
       "      <th>PM1</th>\n",
       "      <td>0.010818</td>\n",
       "      <td>0.060379</td>\n",
       "      <td>0.558556</td>\n",
       "      <td>0.364041</td>\n",
       "      <td>0.262289</td>\n",
       "    </tr>\n",
       "    <tr>\n",
       "      <th>PM2</th>\n",
       "      <td>0.008184</td>\n",
       "      <td>0.044262</td>\n",
       "      <td>0.557011</td>\n",
       "      <td>-0.006225</td>\n",
       "      <td>0.544678</td>\n",
       "    </tr>\n",
       "  </tbody>\n",
       "</table>\n",
       "</div>"
      ],
      "text/plain": [
       "     Monthly Return  Monthly Standard Deviation  Annual Sharpe Ratio  \\\n",
       "PM1        0.010818                    0.060379             0.558556   \n",
       "PM2        0.008184                    0.044262             0.557011   \n",
       "\n",
       "     Annual Information Ratio  Max Drowdown  \n",
       "PM1                  0.364041      0.262289  \n",
       "PM2                 -0.006225      0.544678  "
      ]
     },
     "execution_count": 16,
     "metadata": {},
     "output_type": "execute_result"
    }
   ],
   "source": [
    "summary = analyze(pm_.PM1,pm_['PM1-RF']).append(analyze(pm.PM2,pm['PM2-RF']))\n",
    "summary.index = ['PM1','PM2']\n",
    "summary"
   ]
  },
  {
   "cell_type": "markdown",
   "metadata": {},
   "source": [
    "## (b)  Outperform the market? Alpha?"
   ]
  },
  {
   "cell_type": "code",
   "execution_count": 18,
   "metadata": {},
   "outputs": [
    {
     "data": {
      "text/html": [
       "<table class=\"simpletable\">\n",
       "<caption>OLS Regression Results</caption>\n",
       "<tr>\n",
       "  <th>Dep. Variable:</th>         <td>PM1_RF</td>      <th>  R-squared:         </th> <td>   0.990</td> \n",
       "</tr>\n",
       "<tr>\n",
       "  <th>Model:</th>                   <td>OLS</td>       <th>  Adj. R-squared:    </th> <td>   0.990</td> \n",
       "</tr>\n",
       "<tr>\n",
       "  <th>Method:</th>             <td>Least Squares</td>  <th>  F-statistic:       </th> <td>   6075.</td> \n",
       "</tr>\n",
       "<tr>\n",
       "  <th>Date:</th>             <td>Mon, 29 Mar 2021</td> <th>  Prob (F-statistic):</th> <td>1.32e-176</td>\n",
       "</tr>\n",
       "<tr>\n",
       "  <th>Time:</th>                 <td>14:19:00</td>     <th>  Log-Likelihood:    </th> <td>  664.75</td> \n",
       "</tr>\n",
       "<tr>\n",
       "  <th>No. Observations:</th>      <td>   179</td>      <th>  AIC:               </th> <td>  -1322.</td> \n",
       "</tr>\n",
       "<tr>\n",
       "  <th>Df Residuals:</th>          <td>   175</td>      <th>  BIC:               </th> <td>  -1309.</td> \n",
       "</tr>\n",
       "<tr>\n",
       "  <th>Df Model:</th>              <td>     3</td>      <th>                     </th>     <td> </td>    \n",
       "</tr>\n",
       "<tr>\n",
       "  <th>Covariance Type:</th>      <td>nonrobust</td>    <th>                     </th>     <td> </td>    \n",
       "</tr>\n",
       "</table>\n",
       "<table class=\"simpletable\">\n",
       "<tr>\n",
       "      <td></td>         <th>coef</th>     <th>std err</th>      <th>t</th>      <th>P>|t|</th>  <th>[0.025</th>    <th>0.975]</th>  \n",
       "</tr>\n",
       "<tr>\n",
       "  <th>Intercept</th> <td>-9.027e-05</td> <td>    0.000</td> <td>   -0.199</td> <td> 0.843</td> <td>   -0.001</td> <td>    0.001</td>\n",
       "</tr>\n",
       "<tr>\n",
       "  <th>Mkt_RF</th>    <td>    1.2939</td> <td>    0.012</td> <td>  107.017</td> <td> 0.000</td> <td>    1.270</td> <td>    1.318</td>\n",
       "</tr>\n",
       "<tr>\n",
       "  <th>SMB</th>       <td>    0.8033</td> <td>    0.021</td> <td>   37.874</td> <td> 0.000</td> <td>    0.761</td> <td>    0.845</td>\n",
       "</tr>\n",
       "<tr>\n",
       "  <th>HML</th>       <td>   -0.6884</td> <td>    0.018</td> <td>  -38.214</td> <td> 0.000</td> <td>   -0.724</td> <td>   -0.653</td>\n",
       "</tr>\n",
       "</table>\n",
       "<table class=\"simpletable\">\n",
       "<tr>\n",
       "  <th>Omnibus:</th>       <td> 0.140</td> <th>  Durbin-Watson:     </th> <td>   1.987</td>\n",
       "</tr>\n",
       "<tr>\n",
       "  <th>Prob(Omnibus):</th> <td> 0.932</td> <th>  Jarque-Bera (JB):  </th> <td>   0.128</td>\n",
       "</tr>\n",
       "<tr>\n",
       "  <th>Skew:</th>          <td>-0.062</td> <th>  Prob(JB):          </th> <td>   0.938</td>\n",
       "</tr>\n",
       "<tr>\n",
       "  <th>Kurtosis:</th>      <td> 2.957</td> <th>  Cond. No.          </th> <td>    48.9</td>\n",
       "</tr>\n",
       "</table><br/><br/>Warnings:<br/>[1] Standard Errors assume that the covariance matrix of the errors is correctly specified."
      ],
      "text/plain": [
       "<class 'statsmodels.iolib.summary.Summary'>\n",
       "\"\"\"\n",
       "                            OLS Regression Results                            \n",
       "==============================================================================\n",
       "Dep. Variable:                 PM1_RF   R-squared:                       0.990\n",
       "Model:                            OLS   Adj. R-squared:                  0.990\n",
       "Method:                 Least Squares   F-statistic:                     6075.\n",
       "Date:                Mon, 29 Mar 2021   Prob (F-statistic):          1.32e-176\n",
       "Time:                        14:19:00   Log-Likelihood:                 664.75\n",
       "No. Observations:                 179   AIC:                            -1322.\n",
       "Df Residuals:                     175   BIC:                            -1309.\n",
       "Df Model:                           3                                         \n",
       "Covariance Type:            nonrobust                                         \n",
       "==============================================================================\n",
       "                 coef    std err          t      P>|t|      [0.025      0.975]\n",
       "------------------------------------------------------------------------------\n",
       "Intercept  -9.027e-05      0.000     -0.199      0.843      -0.001       0.001\n",
       "Mkt_RF         1.2939      0.012    107.017      0.000       1.270       1.318\n",
       "SMB            0.8033      0.021     37.874      0.000       0.761       0.845\n",
       "HML           -0.6884      0.018    -38.214      0.000      -0.724      -0.653\n",
       "==============================================================================\n",
       "Omnibus:                        0.140   Durbin-Watson:                   1.987\n",
       "Prob(Omnibus):                  0.932   Jarque-Bera (JB):                0.128\n",
       "Skew:                          -0.062   Prob(JB):                        0.938\n",
       "Kurtosis:                       2.957   Cond. No.                         48.9\n",
       "==============================================================================\n",
       "\n",
       "Warnings:\n",
       "[1] Standard Errors assume that the covariance matrix of the errors is correctly specified.\n",
       "\"\"\""
      ]
     },
     "execution_count": 18,
     "metadata": {},
     "output_type": "execute_result"
    }
   ],
   "source": [
    "import statsmodels.formula.api as smf\n",
    "pm_ = pm_.rename(columns={'PM1-RF':'PM1_RF'})\n",
    "pm_ = pm_.rename(columns={'PM2-RF':'PM2_RF'})\n",
    "pm_ = pm_.rename(columns={'Mkt-RF':'Mkt_RF'})\n",
    "est1 = smf.ols(formula='PM1_RF ~ Mkt_RF + SMB + HML', data=pm_).fit()\n",
    "est1.summary()"
   ]
  },
  {
   "cell_type": "code",
   "execution_count": 19,
   "metadata": {},
   "outputs": [
    {
     "data": {
      "text/html": [
       "<table class=\"simpletable\">\n",
       "<caption>OLS Regression Results</caption>\n",
       "<tr>\n",
       "  <th>Dep. Variable:</th>         <td>PM2_RF</td>      <th>  R-squared:         </th> <td>   0.961</td> \n",
       "</tr>\n",
       "<tr>\n",
       "  <th>Model:</th>                   <td>OLS</td>       <th>  Adj. R-squared:    </th> <td>   0.960</td> \n",
       "</tr>\n",
       "<tr>\n",
       "  <th>Method:</th>             <td>Least Squares</td>  <th>  F-statistic:       </th> <td>   1441.</td> \n",
       "</tr>\n",
       "<tr>\n",
       "  <th>Date:</th>             <td>Mon, 29 Mar 2021</td> <th>  Prob (F-statistic):</th> <td>1.37e-123</td>\n",
       "</tr>\n",
       "<tr>\n",
       "  <th>Time:</th>                 <td>14:19:07</td>     <th>  Log-Likelihood:    </th> <td>  597.24</td> \n",
       "</tr>\n",
       "<tr>\n",
       "  <th>No. Observations:</th>      <td>   180</td>      <th>  AIC:               </th> <td>  -1186.</td> \n",
       "</tr>\n",
       "<tr>\n",
       "  <th>Df Residuals:</th>          <td>   176</td>      <th>  BIC:               </th> <td>  -1174.</td> \n",
       "</tr>\n",
       "<tr>\n",
       "  <th>Df Model:</th>              <td>     3</td>      <th>                     </th>     <td> </td>    \n",
       "</tr>\n",
       "<tr>\n",
       "  <th>Covariance Type:</th>      <td>nonrobust</td>    <th>                     </th>     <td> </td>    \n",
       "</tr>\n",
       "</table>\n",
       "<table class=\"simpletable\">\n",
       "<tr>\n",
       "      <td></td>         <th>coef</th>     <th>std err</th>      <th>t</th>      <th>P>|t|</th>  <th>[0.025</th>    <th>0.975]</th>  \n",
       "</tr>\n",
       "<tr>\n",
       "  <th>Intercept</th> <td>    0.0010</td> <td>    0.001</td> <td>    1.488</td> <td> 0.138</td> <td>   -0.000</td> <td>    0.002</td>\n",
       "</tr>\n",
       "<tr>\n",
       "  <th>Mkt_RF</th>    <td>    0.9512</td> <td>    0.018</td> <td>   53.719</td> <td> 0.000</td> <td>    0.916</td> <td>    0.986</td>\n",
       "</tr>\n",
       "<tr>\n",
       "  <th>SMB</th>       <td>   -0.1176</td> <td>    0.031</td> <td>   -3.761</td> <td> 0.000</td> <td>   -0.179</td> <td>   -0.056</td>\n",
       "</tr>\n",
       "<tr>\n",
       "  <th>HML</th>       <td>    0.5336</td> <td>    0.027</td> <td>   19.951</td> <td> 0.000</td> <td>    0.481</td> <td>    0.586</td>\n",
       "</tr>\n",
       "</table>\n",
       "<table class=\"simpletable\">\n",
       "<tr>\n",
       "  <th>Omnibus:</th>       <td> 0.120</td> <th>  Durbin-Watson:     </th> <td>   1.992</td>\n",
       "</tr>\n",
       "<tr>\n",
       "  <th>Prob(Omnibus):</th> <td> 0.942</td> <th>  Jarque-Bera (JB):  </th> <td>   0.023</td>\n",
       "</tr>\n",
       "<tr>\n",
       "  <th>Skew:</th>          <td> 0.025</td> <th>  Prob(JB):          </th> <td>   0.989</td>\n",
       "</tr>\n",
       "<tr>\n",
       "  <th>Kurtosis:</th>      <td> 3.023</td> <th>  Cond. No.          </th> <td>    48.6</td>\n",
       "</tr>\n",
       "</table><br/><br/>Warnings:<br/>[1] Standard Errors assume that the covariance matrix of the errors is correctly specified."
      ],
      "text/plain": [
       "<class 'statsmodels.iolib.summary.Summary'>\n",
       "\"\"\"\n",
       "                            OLS Regression Results                            \n",
       "==============================================================================\n",
       "Dep. Variable:                 PM2_RF   R-squared:                       0.961\n",
       "Model:                            OLS   Adj. R-squared:                  0.960\n",
       "Method:                 Least Squares   F-statistic:                     1441.\n",
       "Date:                Mon, 29 Mar 2021   Prob (F-statistic):          1.37e-123\n",
       "Time:                        14:19:07   Log-Likelihood:                 597.24\n",
       "No. Observations:                 180   AIC:                            -1186.\n",
       "Df Residuals:                     176   BIC:                            -1174.\n",
       "Df Model:                           3                                         \n",
       "Covariance Type:            nonrobust                                         \n",
       "==============================================================================\n",
       "                 coef    std err          t      P>|t|      [0.025      0.975]\n",
       "------------------------------------------------------------------------------\n",
       "Intercept      0.0010      0.001      1.488      0.138      -0.000       0.002\n",
       "Mkt_RF         0.9512      0.018     53.719      0.000       0.916       0.986\n",
       "SMB           -0.1176      0.031     -3.761      0.000      -0.179      -0.056\n",
       "HML            0.5336      0.027     19.951      0.000       0.481       0.586\n",
       "==============================================================================\n",
       "Omnibus:                        0.120   Durbin-Watson:                   1.992\n",
       "Prob(Omnibus):                  0.942   Jarque-Bera (JB):                0.023\n",
       "Skew:                           0.025   Prob(JB):                        0.989\n",
       "Kurtosis:                       3.023   Cond. No.                         48.6\n",
       "==============================================================================\n",
       "\n",
       "Warnings:\n",
       "[1] Standard Errors assume that the covariance matrix of the errors is correctly specified.\n",
       "\"\"\""
      ]
     },
     "execution_count": 19,
     "metadata": {},
     "output_type": "execute_result"
    }
   ],
   "source": [
    "pm = pm.rename(columns={'PM1-RF':'PM1_RF'})\n",
    "pm = pm.rename(columns={'PM2-RF':'PM2_RF'})\n",
    "pm = pm.rename(columns={'Mkt-RF':'Mkt_RF'})\n",
    "est2 = smf.ols(formula='PM2_RF ~ Mkt_RF + SMB + HML', data=pm).fit()\n",
    "est2.summary()"
   ]
  },
  {
   "cell_type": "markdown",
   "metadata": {},
   "source": [
    "##  (c) Statistical tests"
   ]
  },
  {
   "cell_type": "markdown",
   "metadata": {},
   "source": [
    "### Beating the market"
   ]
  },
  {
   "cell_type": "code",
   "execution_count": 20,
   "metadata": {},
   "outputs": [
    {
     "data": {
      "text/html": [
       "<div>\n",
       "<style scoped>\n",
       "    .dataframe tbody tr th:only-of-type {\n",
       "        vertical-align: middle;\n",
       "    }\n",
       "\n",
       "    .dataframe tbody tr th {\n",
       "        vertical-align: top;\n",
       "    }\n",
       "\n",
       "    .dataframe thead th {\n",
       "        text-align: right;\n",
       "    }\n",
       "</style>\n",
       "<table border=\"1\" class=\"dataframe\">\n",
       "  <thead>\n",
       "    <tr style=\"text-align: right;\">\n",
       "      <th></th>\n",
       "      <th>Time</th>\n",
       "      <th>PM1</th>\n",
       "      <th>PM2</th>\n",
       "      <th>Mkt_RF</th>\n",
       "      <th>SMB</th>\n",
       "      <th>HML</th>\n",
       "      <th>RF</th>\n",
       "      <th>PM1_RF</th>\n",
       "      <th>PM2_RF</th>\n",
       "      <th>PM1_Mkt</th>\n",
       "      <th>PM2_Mkt</th>\n",
       "    </tr>\n",
       "  </thead>\n",
       "  <tbody>\n",
       "    <tr>\n",
       "      <th>0</th>\n",
       "      <td>2005.01</td>\n",
       "      <td>-0.063230</td>\n",
       "      <td>0.006049</td>\n",
       "      <td>-0.0276</td>\n",
       "      <td>-0.0172</td>\n",
       "      <td>0.0201</td>\n",
       "      <td>0.0016</td>\n",
       "      <td>-0.064830</td>\n",
       "      <td>0.004449</td>\n",
       "      <td>-0.037230</td>\n",
       "      <td>0.032049</td>\n",
       "    </tr>\n",
       "    <tr>\n",
       "      <th>1</th>\n",
       "      <td>2005.02</td>\n",
       "      <td>0.005775</td>\n",
       "      <td>0.023234</td>\n",
       "      <td>0.0189</td>\n",
       "      <td>-0.0055</td>\n",
       "      <td>0.0163</td>\n",
       "      <td>0.0016</td>\n",
       "      <td>0.004175</td>\n",
       "      <td>0.021634</td>\n",
       "      <td>-0.014725</td>\n",
       "      <td>0.002734</td>\n",
       "    </tr>\n",
       "    <tr>\n",
       "      <th>2</th>\n",
       "      <td>2005.03</td>\n",
       "      <td>-0.040356</td>\n",
       "      <td>-0.011162</td>\n",
       "      <td>-0.0197</td>\n",
       "      <td>-0.0135</td>\n",
       "      <td>0.0214</td>\n",
       "      <td>0.0021</td>\n",
       "      <td>-0.042456</td>\n",
       "      <td>-0.013262</td>\n",
       "      <td>-0.022756</td>\n",
       "      <td>0.006438</td>\n",
       "    </tr>\n",
       "    <tr>\n",
       "      <th>3</th>\n",
       "      <td>2005.04</td>\n",
       "      <td>-0.062735</td>\n",
       "      <td>-0.019199</td>\n",
       "      <td>-0.0261</td>\n",
       "      <td>-0.0397</td>\n",
       "      <td>0.0005</td>\n",
       "      <td>0.0021</td>\n",
       "      <td>-0.064835</td>\n",
       "      <td>-0.021299</td>\n",
       "      <td>-0.038735</td>\n",
       "      <td>0.004801</td>\n",
       "    </tr>\n",
       "    <tr>\n",
       "      <th>4</th>\n",
       "      <td>2005.05</td>\n",
       "      <td>0.077903</td>\n",
       "      <td>0.037375</td>\n",
       "      <td>0.0365</td>\n",
       "      <td>0.0280</td>\n",
       "      <td>-0.0066</td>\n",
       "      <td>0.0024</td>\n",
       "      <td>0.075503</td>\n",
       "      <td>0.034975</td>\n",
       "      <td>0.039003</td>\n",
       "      <td>-0.001525</td>\n",
       "    </tr>\n",
       "  </tbody>\n",
       "</table>\n",
       "</div>"
      ],
      "text/plain": [
       "      Time       PM1       PM2  Mkt_RF     SMB     HML      RF    PM1_RF  \\\n",
       "0  2005.01 -0.063230  0.006049 -0.0276 -0.0172  0.0201  0.0016 -0.064830   \n",
       "1  2005.02  0.005775  0.023234  0.0189 -0.0055  0.0163  0.0016  0.004175   \n",
       "2  2005.03 -0.040356 -0.011162 -0.0197 -0.0135  0.0214  0.0021 -0.042456   \n",
       "3  2005.04 -0.062735 -0.019199 -0.0261 -0.0397  0.0005  0.0021 -0.064835   \n",
       "4  2005.05  0.077903  0.037375  0.0365  0.0280 -0.0066  0.0024  0.075503   \n",
       "\n",
       "     PM2_RF   PM1_Mkt   PM2_Mkt  \n",
       "0  0.004449 -0.037230  0.032049  \n",
       "1  0.021634 -0.014725  0.002734  \n",
       "2 -0.013262 -0.022756  0.006438  \n",
       "3 -0.021299 -0.038735  0.004801  \n",
       "4  0.034975  0.039003 -0.001525  "
      ]
     },
     "execution_count": 20,
     "metadata": {},
     "output_type": "execute_result"
    }
   ],
   "source": [
    "pm_['PM1_Mkt'] = pm_['PM1_RF'] - pm_['Mkt_RF']\n",
    "pm_['PM2_Mkt'] = pm_['PM2_RF'] - pm_['Mkt_RF']\n",
    "pm_.head()"
   ]
  },
  {
   "cell_type": "code",
   "execution_count": 21,
   "metadata": {},
   "outputs": [
    {
     "data": {
      "text/plain": [
       "Ttest_indResult(statistic=1.207392065004469, pvalue=0.22808275619817422)"
      ]
     },
     "execution_count": 21,
     "metadata": {},
     "output_type": "execute_result"
    }
   ],
   "source": [
    "from scipy import stats\n",
    "stats.ttest_ind(pm_['PM1_Mkt'], pm_['PM2_Mkt'])"
   ]
  },
  {
   "cell_type": "code",
   "execution_count": 22,
   "metadata": {},
   "outputs": [
    {
     "data": {
      "text/plain": [
       "Ttest_indResult(statistic=1.8010871004332931, pvalue=0.07253527953205546)"
      ]
     },
     "execution_count": 22,
     "metadata": {},
     "output_type": "execute_result"
    }
   ],
   "source": [
    "from scipy import stats\n",
    "stats.ttest_ind(pm_['PM1_Mkt']>0, pm_['PM2_Mkt']>0)"
   ]
  },
  {
   "cell_type": "markdown",
   "metadata": {},
   "source": [
    "### Sharpe ratio"
   ]
  },
  {
   "cell_type": "code",
   "execution_count": 23,
   "metadata": {},
   "outputs": [],
   "source": [
    "x1 = pm_['PM1_RF']\n",
    "x2 = pm_['PM2_RF']\n",
    "mu1 = x1.mean()*12\n",
    "mu2 = x2.mean()*12\n",
    "sigma1 = x1.std()*12**0.5\n",
    "sigma2 = x2.std()*12**0.5"
   ]
  },
  {
   "cell_type": "code",
   "execution_count": 24,
   "metadata": {},
   "outputs": [
    {
     "data": {
      "text/plain": [
       "array([ 4.75770867, -2.6500112 , -6.50820887,  3.45611472])"
      ]
     },
     "execution_count": 24,
     "metadata": {},
     "output_type": "execute_result"
    }
   ],
   "source": [
    "A = np.array([1/sigma1, -mu1/sigma1**2, -1/sigma2, mu2/sigma2**2])\n",
    "A"
   ]
  },
  {
   "cell_type": "code",
   "execution_count": 25,
   "metadata": {},
   "outputs": [
    {
     "data": {
      "text/plain": [
       "array([[-1.        , -0.        , -0.        , -0.        ],\n",
       "       [-0.        , -0.42037042, -0.        , -0.        ],\n",
       "       [-0.        , -0.        , -1.        , -0.        ],\n",
       "       [-0.        , -0.        , -0.        , -0.30730421]])"
      ]
     },
     "execution_count": 25,
     "metadata": {},
     "output_type": "execute_result"
    }
   ],
   "source": [
    "d = -1*np.identity(4)\n",
    "d[1,1] = -2*sigma1\n",
    "d[3,3] = -2*sigma2\n",
    "d"
   ]
  },
  {
   "cell_type": "code",
   "execution_count": 26,
   "metadata": {},
   "outputs": [
    {
     "data": {
      "text/plain": [
       "array([[2.71678827, 0.39646824, 1.7975358 , 0.2433801 ],\n",
       "       [0.39646824, 0.19692863, 0.29838624, 0.10189059],\n",
       "       [1.7975358 , 0.29838624, 1.3515967 , 0.15152749],\n",
       "       [0.2433801 , 0.10189059, 0.15152749, 0.05992835]])"
      ]
     },
     "execution_count": 26,
     "metadata": {},
     "output_type": "execute_result"
    }
   ],
   "source": [
    "f1 = x1 - mu1\n",
    "f2 = (x1 - mu1)**2 - sigma1**2\n",
    "f3 = x2 - mu2\n",
    "f4 = (x2 - mu2)**2 - sigma2**2\n",
    "f = np.array([f1,f2,f3,f4])\n",
    "S = np.dot(f,f.T)\n",
    "S"
   ]
  },
  {
   "cell_type": "code",
   "execution_count": 27,
   "metadata": {},
   "outputs": [
    {
     "data": {
      "text/plain": [
       "array([[0.01517759, 0.00526894, 0.0100421 , 0.00442449],\n",
       "       [0.00526894, 0.00622575, 0.00396546, 0.00440636],\n",
       "       [0.0100421 , 0.00396546, 0.00755082, 0.00275467],\n",
       "       [0.00442449, 0.00440636, 0.00275467, 0.00354521]])"
      ]
     },
     "execution_count": 27,
     "metadata": {},
     "output_type": "execute_result"
    }
   ],
   "source": [
    "V = np.linalg.inv(d@np.linalg.inv(S)@d.T)/pm_.shape[0]\n",
    "V"
   ]
  },
  {
   "cell_type": "code",
   "execution_count": 28,
   "metadata": {},
   "outputs": [
    {
     "data": {
      "text/plain": [
       "0.07235359243574153"
      ]
     },
     "execution_count": 28,
     "metadata": {},
     "output_type": "execute_result"
    }
   ],
   "source": [
    "var_h = A@V@A.T\n",
    "var_h"
   ]
  },
  {
   "cell_type": "code",
   "execution_count": 29,
   "metadata": {},
   "outputs": [
    {
     "data": {
      "text/plain": [
       "0.09648767956142054"
      ]
     },
     "execution_count": 29,
     "metadata": {},
     "output_type": "execute_result"
    }
   ],
   "source": [
    "h = mu1/sigma1 - mu2/sigma2\n",
    "tval = h/var_h**0.5\n",
    "tval"
   ]
  },
  {
   "cell_type": "code",
   "execution_count": 30,
   "metadata": {},
   "outputs": [
    {
     "data": {
      "text/plain": [
       "0.9232418075212461"
      ]
     },
     "execution_count": 30,
     "metadata": {},
     "output_type": "execute_result"
    }
   ],
   "source": [
    "pval = stats.t.sf(np.abs(tval), pm_.shape[0]-1)*2\n",
    "pval"
   ]
  },
  {
   "cell_type": "markdown",
   "metadata": {},
   "source": [
    "### Information ratio"
   ]
  },
  {
   "cell_type": "code",
   "execution_count": 31,
   "metadata": {
    "scrolled": true
   },
   "outputs": [],
   "source": [
    "y1 = pm_['PM1_RF'] - est1.predict(pm_[['Mkt_RF','SMB','HML']])\n",
    "y2 = pm_['PM2_RF'] - est2.predict(pm_[['Mkt_RF','SMB','HML']])\n",
    "alpha1 = y1.mean()*12\n",
    "alpha2 = y2.mean()*12\n",
    "eps1 = y1.std()*12**0.5\n",
    "eps2 = y2.std()*12**0.5"
   ]
  },
  {
   "cell_type": "code",
   "execution_count": 32,
   "metadata": {},
   "outputs": [
    {
     "data": {
      "text/plain": [
       "array([ 4.87836784e+01,  2.96136089e-14, -3.28668769e+01,  7.18426823e-01])"
      ]
     },
     "execution_count": 32,
     "metadata": {},
     "output_type": "execute_result"
    }
   ],
   "source": [
    "A = np.array([1/eps1, -alpha1/eps1**2, -1/eps2, alpha2/eps2**2])\n",
    "A"
   ]
  },
  {
   "cell_type": "code",
   "execution_count": 33,
   "metadata": {},
   "outputs": [
    {
     "data": {
      "text/plain": [
       "array([[-1.        , -0.        , -0.        , -0.        ],\n",
       "       [-0.        , -0.04099732, -0.        , -0.        ],\n",
       "       [-0.        , -0.        , -1.        , -0.        ],\n",
       "       [-0.        , -0.        , -0.        , -0.06085154]])"
      ]
     },
     "execution_count": 33,
     "metadata": {},
     "output_type": "execute_result"
    }
   ],
   "source": [
    "d = -1*np.identity(4)\n",
    "d[1,1] = -2*eps1\n",
    "d[3,3] = -2*eps2\n",
    "d"
   ]
  },
  {
   "cell_type": "code",
   "execution_count": 34,
   "metadata": {},
   "outputs": [
    {
     "data": {
      "text/plain": [
       "array([[ 6.23289295e-03, -2.28144983e-06, -5.21007645e-04,\n",
       "         1.08059077e-06],\n",
       "       [-2.28144983e-06,  2.70087357e-05,  4.26569988e-05,\n",
       "         5.85031685e-05],\n",
       "       [-5.21007645e-04,  4.26569988e-05,  1.37981517e-02,\n",
       "         7.76055581e-05],\n",
       "       [ 1.08059077e-06,  5.85031685e-05,  7.76055581e-05,\n",
       "         1.31079539e-04]])"
      ]
     },
     "execution_count": 34,
     "metadata": {},
     "output_type": "execute_result"
    }
   ],
   "source": [
    "f1 = y1 - alpha1\n",
    "f2 = (y1 - alpha1)**2 - eps1**2\n",
    "f3 = y2 - alpha2\n",
    "f4 = (y2 - alpha2)**2 - eps2**2\n",
    "f = np.array([f1,f2,f3,f4])\n",
    "S = np.dot(f,f.T)\n",
    "S"
   ]
  },
  {
   "cell_type": "code",
   "execution_count": 35,
   "metadata": {},
   "outputs": [
    {
     "data": {
      "text/plain": [
       "array([[ 3.48206310e-05, -3.10886913e-07, -2.91065724e-06,\n",
       "         9.92057092e-08],\n",
       "       [-3.10886913e-07,  8.97718803e-05,  5.81275227e-06,\n",
       "         1.31008462e-04],\n",
       "       [-2.91065724e-06,  5.81275227e-06,  7.70846464e-05,\n",
       "         7.12472716e-06],\n",
       "       [ 9.92057092e-08,  1.31008462e-04,  7.12472716e-06,\n",
       "         1.97760139e-04]])"
      ]
     },
     "execution_count": 35,
     "metadata": {},
     "output_type": "execute_result"
    }
   ],
   "source": [
    "V = np.linalg.inv(d@np.linalg.inv(S)@d.T)/pm_.shape[0]\n",
    "V"
   ]
  },
  {
   "cell_type": "code",
   "execution_count": 36,
   "metadata": {},
   "outputs": [
    {
     "data": {
      "text/plain": [
       "0.17524331969842566"
      ]
     },
     "execution_count": 36,
     "metadata": {},
     "output_type": "execute_result"
    }
   ],
   "source": [
    "var_h = A@V@A.T\n",
    "var_h"
   ]
  },
  {
   "cell_type": "code",
   "execution_count": 37,
   "metadata": {},
   "outputs": [
    {
     "data": {
      "text/plain": [
       "-0.05221597176624682"
      ]
     },
     "execution_count": 37,
     "metadata": {},
     "output_type": "execute_result"
    }
   ],
   "source": [
    "h = alpha1/eps1 - alpha2/eps2\n",
    "tval = h/var_h**0.5\n",
    "tval"
   ]
  },
  {
   "cell_type": "code",
   "execution_count": 38,
   "metadata": {},
   "outputs": [
    {
     "data": {
      "text/plain": [
       "0.9584151592527077"
      ]
     },
     "execution_count": 38,
     "metadata": {},
     "output_type": "execute_result"
    }
   ],
   "source": [
    "pval = stats.t.sf(np.abs(tval), pm_.shape[0]-1)*2\n",
    "pval"
   ]
  }
 ],
 "metadata": {
  "kernelspec": {
   "display_name": "Python 3",
   "language": "python",
   "name": "python3"
  },
  "language_info": {
   "codemirror_mode": {
    "name": "ipython",
    "version": 3
   },
   "file_extension": ".py",
   "mimetype": "text/x-python",
   "name": "python",
   "nbconvert_exporter": "python",
   "pygments_lexer": "ipython3",
   "version": "3.7.3"
  }
 },
 "nbformat": 4,
 "nbformat_minor": 2
}
